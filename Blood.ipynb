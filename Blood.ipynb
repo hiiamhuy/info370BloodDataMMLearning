{
 "cells": [
  {
   "cell_type": "markdown",
   "metadata": {},
   "source": [
    "# Import modules"
   ]
  },
  {
   "cell_type": "code",
   "execution_count": 29,
   "metadata": {
    "collapsed": false
   },
   "outputs": [
    {
     "name": "stdout",
     "output_type": "stream",
     "text": [
      "     Months since Last Donation  Number of Donations  \\\n",
      "619                           2                   50   \n",
      "664                           0                   13   \n",
      "441                           1                   16   \n",
      "160                           2                   20   \n",
      "358                           1                   24   \n",
      "335                           4                    4   \n",
      "47                            2                    7   \n",
      "164                           1                   12   \n",
      "736                           5                   46   \n",
      "436                           0                    3   \n",
      "460                           2                   10   \n",
      "285                           1                   13   \n",
      "499                           2                    6   \n",
      "356                           2                    5   \n",
      "40                            2                   14   \n",
      "191                           2                   15   \n",
      "638                           2                    6   \n",
      "345                           2                    3   \n",
      "463                           2                    3   \n",
      "372                           4                   11   \n",
      "8                             2                    6   \n",
      "539                           2                    6   \n",
      "734                           4                   14   \n",
      "573                           4                    6   \n",
      "482                           4                    8   \n",
      "330                           1                   14   \n",
      "222                           4                   10   \n",
      "175                           4                   10   \n",
      "606                           2                   16   \n",
      "340                           2                    8   \n",
      "..                          ...                  ...   \n",
      "577                          11                    4   \n",
      "118                          21                    6   \n",
      "532                          23                    2   \n",
      "338                          23                    6   \n",
      "365                          14                    2   \n",
      "173                          16                    4   \n",
      "715                          16                    5   \n",
      "2                            21                    2   \n",
      "387                          21                    3   \n",
      "738                          23                    8   \n",
      "610                          21                    3   \n",
      "450                          21                    3   \n",
      "232                          21                    1   \n",
      "440                          21                    1   \n",
      "183                          25                    6   \n",
      "60                           21                    1   \n",
      "58                           21                    1   \n",
      "49                           23                    3   \n",
      "674                          21                    2   \n",
      "204                          14                    3   \n",
      "361                          23                    1   \n",
      "30                           23                    1   \n",
      "337                          23                    1   \n",
      "496                          23                    1   \n",
      "169                          23                    1   \n",
      "698                          23                    1   \n",
      "433                          16                    3   \n",
      "360                          21                    2   \n",
      "541                          39                    1   \n",
      "74                           72                    1   \n",
      "\n",
      "     Total Volume Donated (c.c.)  Months since First Donation  \\\n",
      "619                        12500                           98   \n",
      "664                         3250                           28   \n",
      "441                         4000                           35   \n",
      "160                         5000                           45   \n",
      "358                         6000                           77   \n",
      "335                         1000                            4   \n",
      "47                          1750                           14   \n",
      "164                         3000                           35   \n",
      "736                        11500                           98   \n",
      "436                          750                            4   \n",
      "460                         2500                           28   \n",
      "285                         3250                           47   \n",
      "499                         1500                           15   \n",
      "356                         1250                           11   \n",
      "40                          3500                           48   \n",
      "191                         3750                           49   \n",
      "638                         1500                           15   \n",
      "345                          750                            4   \n",
      "463                          750                            4   \n",
      "372                         2750                           28   \n",
      "8                           1500                           16   \n",
      "539                         1500                           16   \n",
      "734                         3500                           40   \n",
      "573                         1500                           14   \n",
      "482                         2000                           21   \n",
      "330                         3500                           58   \n",
      "222                         2500                           28   \n",
      "175                         2500                           28   \n",
      "606                         4000                           64   \n",
      "340                         2000                           28   \n",
      "..                           ...                          ...   \n",
      "577                         1000                           74   \n",
      "118                         1500                           48   \n",
      "532                          500                           23   \n",
      "338                         1500                           45   \n",
      "365                          500                           35   \n",
      "173                         1000                           58   \n",
      "715                         1250                           71   \n",
      "2                            500                           26   \n",
      "387                          750                           35   \n",
      "738                         2000                           69   \n",
      "610                          750                           38   \n",
      "450                          750                           40   \n",
      "232                          250                           21   \n",
      "440                          250                           21   \n",
      "183                         1500                           50   \n",
      "60                           250                           21   \n",
      "58                           250                           21   \n",
      "49                           750                           39   \n",
      "674                          500                           33   \n",
      "204                          750                           79   \n",
      "361                          250                           23   \n",
      "30                           250                           23   \n",
      "337                          250                           23   \n",
      "496                          250                           23   \n",
      "169                          250                           23   \n",
      "698                          250                           23   \n",
      "433                          750                           86   \n",
      "360                          500                           52   \n",
      "541                          250                           39   \n",
      "74                           250                           72   \n",
      "\n",
      "     Made Donation in March 2007  \n",
      "619                            1  \n",
      "664                            1  \n",
      "441                            1  \n",
      "160                            1  \n",
      "358                            0  \n",
      "335                            0  \n",
      "47                             1  \n",
      "164                            0  \n",
      "736                            1  \n",
      "436                            0  \n",
      "460                            1  \n",
      "285                            0  \n",
      "499                            1  \n",
      "356                            1  \n",
      "40                             1  \n",
      "191                            1  \n",
      "638                            1  \n",
      "345                            1  \n",
      "463                            1  \n",
      "372                            0  \n",
      "8                              1  \n",
      "539                            1  \n",
      "734                            0  \n",
      "573                            0  \n",
      "482                            0  \n",
      "330                            0  \n",
      "222                            1  \n",
      "175                            1  \n",
      "606                            0  \n",
      "340                            1  \n",
      "..                           ...  \n",
      "577                            0  \n",
      "118                            0  \n",
      "532                            0  \n",
      "338                            0  \n",
      "365                            1  \n",
      "173                            0  \n",
      "715                            0  \n",
      "2                              0  \n",
      "387                            0  \n",
      "738                            0  \n",
      "610                            0  \n",
      "450                            0  \n",
      "232                            0  \n",
      "440                            0  \n",
      "183                            0  \n",
      "60                             0  \n",
      "58                             0  \n",
      "49                             0  \n",
      "674                            0  \n",
      "204                            0  \n",
      "361                            1  \n",
      "30                             0  \n",
      "337                            0  \n",
      "496                            0  \n",
      "169                            0  \n",
      "698                            0  \n",
      "433                            0  \n",
      "360                            0  \n",
      "541                            0  \n",
      "74                             0  \n",
      "\n",
      "[576 rows x 5 columns]\n"
     ]
    }
   ],
   "source": [
    "from pandas import *\n",
    "from sklearn.cross_validation import train_test_split\n",
    "from sklearn.preprocessing import scale\n",
    "from sklearn.neighbors import KNeighborsClassifier\n",
    "from sklearn.metrics import mean_squared_error\n",
    "from sklearn.cross_validation import KFold\n",
    "import sklearn as sk\n",
    "import matplotlib.pyplot as plt\n",
    "import numpy as np\n",
    "%matplotlib inline\n",
    "\n",
    "df = pandas.DataFrame.from_csv('./trainingData.csv')\n",
    "print(df)"
   ]
  },
  {
   "cell_type": "markdown",
   "metadata": {},
   "source": [
    "# Normalize Data"
   ]
  },
  {
   "cell_type": "code",
   "execution_count": 28,
   "metadata": {
    "collapsed": false
   },
   "outputs": [
    {
     "name": "stdout",
     "output_type": "stream",
     "text": [
      "[[  1.59993801e-04   3.99984501e-03   9.99961253e-01   7.83969623e-03\n",
      "    7.99969003e-05]\n",
      " [  0.00000000e+00   3.99981937e-03   9.99954843e-01   8.61499557e-03\n",
      "    3.07678413e-04]\n",
      " [  2.49988415e-04   3.99981464e-03   9.99953659e-01   8.74959452e-03\n",
      "    2.49988415e-04]\n",
      " ..., \n",
      " [  4.17379569e-02   3.97504352e-03   9.93760879e-01   1.03351131e-01\n",
      "    0.00000000e+00]\n",
      " [  1.52335615e-01   3.90604140e-03   9.76510350e-01   1.52335615e-01\n",
      "    0.00000000e+00]\n",
      " [  2.66723383e-01   3.70449144e-03   9.26122859e-01   2.66723383e-01\n",
      "    0.00000000e+00]]\n"
     ]
    }
   ],
   "source": [
    "x = sk.preprocessing.normalize(df)\n",
    "print(x)"
   ]
  },
  {
   "cell_type": "markdown",
   "metadata": {},
   "source": [
    "# Tuning"
   ]
  },
  {
   "cell_type": "code",
   "execution_count": null,
   "metadata": {
    "collapsed": true
   },
   "outputs": [],
   "source": [
    "scores = {}\n",
    "for k in kValues:\n",
    "    currentScores = []\n",
    "    for train_index, val_index in folds:\n",
    "        current_train_data, current_val_data = data_train_stand[train_index], data_train_stand[val_index]\n",
    "        current_train_price, current_val_price = price_train_stand[train_index], price_train_stand[val_index]\\\n",
    "        neigh = KNeighborsRegressor(n_neighbors = k)\n",
    "        neigh.fit(current_train_data, current_train_price)\n",
    "        guesses = neigh.predict(current_val_data)\n",
    "        rmse = np.sqrt(mean_squared_error(guesses, current_val_price))\n",
    "        currentScores.append(rmse)\n",
    "        scores[k] = currentScores"
   ]
  },
  {
   "cell_type": "markdown",
   "metadata": {},
   "source": [
    "# Fit Model KNN (skip tuning)"
   ]
  },
  {
   "cell_type": "code",
   "execution_count": 37,
   "metadata": {
    "collapsed": false
   },
   "outputs": [
    {
     "ename": "NameError",
     "evalue": "name 'features' is not defined",
     "output_type": "error",
     "traceback": [
      "\u001b[0;31m---------------------------------------------------------------------------\u001b[0m",
      "\u001b[0;31mNameError\u001b[0m                                 Traceback (most recent call last)",
      "\u001b[0;32m<ipython-input-37-787a012dda99>\u001b[0m in \u001b[0;36m<module>\u001b[0;34m()\u001b[0m\n\u001b[1;32m      1\u001b[0m \u001b[0mneigh\u001b[0m \u001b[1;33m=\u001b[0m \u001b[0mKNeighborsClassifier\u001b[0m\u001b[1;33m(\u001b[0m\u001b[0mn_neighbors\u001b[0m \u001b[1;33m=\u001b[0m \u001b[0mx\u001b[0m\u001b[1;33m)\u001b[0m\u001b[1;33m\u001b[0m\u001b[0m\n\u001b[0;32m----> 2\u001b[0;31m \u001b[0mneighFit\u001b[0m \u001b[1;33m=\u001b[0m \u001b[0mneigh\u001b[0m\u001b[1;33m.\u001b[0m\u001b[0mfit\u001b[0m\u001b[1;33m(\u001b[0m\u001b[0mfeatures\u001b[0m\u001b[1;33m,\u001b[0m \u001b[0moutcome\u001b[0m\u001b[1;33m)\u001b[0m\u001b[1;33m\u001b[0m\u001b[0m\n\u001b[0m\u001b[1;32m      3\u001b[0m \u001b[1;33m\u001b[0m\u001b[0m\n\u001b[1;32m      4\u001b[0m \u001b[0mneigh\u001b[0m\u001b[1;33m.\u001b[0m\u001b[0mpredict_proba\u001b[0m\u001b[1;33m(\u001b[0m\u001b[0mneighFit\u001b[0m\u001b[1;33m)\u001b[0m\u001b[1;33m[\u001b[0m\u001b[1;36m0\u001b[0m\u001b[1;33m:\u001b[0m\u001b[1;33m,\u001b[0m\u001b[1;36m1\u001b[0m\u001b[1;33m]\u001b[0m\u001b[1;33m\u001b[0m\u001b[0m\n\u001b[1;32m      5\u001b[0m \u001b[1;33m\u001b[0m\u001b[0m\n",
      "\u001b[0;31mNameError\u001b[0m: name 'features' is not defined"
     ]
    }
   ],
   "source": [
    "neigh = KNeighborsClassifier(n_neighbors = x) \n",
    "neighFit = neigh.fit(features, outcome)\n",
    "\n",
    "neigh.predict_proba(neighFit)[0:,1]\n",
    "\n"
   ]
  },
  {
   "cell_type": "code",
   "execution_count": null,
   "metadata": {
    "collapsed": true
   },
   "outputs": [],
   "source": []
  }
 ],
 "metadata": {
  "anaconda-cloud": {},
  "kernelspec": {
   "display_name": "Python [conda root]",
   "language": "python",
   "name": "conda-root-py"
  },
  "language_info": {
   "codemirror_mode": {
    "name": "ipython",
    "version": 3
   },
   "file_extension": ".py",
   "mimetype": "text/x-python",
   "name": "python",
   "nbconvert_exporter": "python",
   "pygments_lexer": "ipython3",
   "version": "3.5.2"
  }
 },
 "nbformat": 4,
 "nbformat_minor": 1
}
